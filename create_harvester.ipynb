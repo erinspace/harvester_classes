{
 "metadata": {
  "name": "",
  "signature": "sha256:6aa40f189f4da10365a0a8904e0df93fe6d57eff4d53978d984f431583cbe273"
 },
 "nbformat": 3,
 "nbformat_minor": 0,
 "worksheets": [
  {
   "cells": [
    {
     "cell_type": "code",
     "collapsed": false,
     "input": [
      "from __future__ import unicode_literals\n",
      "\n",
      "import json\n",
      "\n",
      "from base import OAIHarvester\n",
      "from IPython.html import widgets\n",
      "from IPython.display import clear_output, display, HTML"
     ],
     "language": "python",
     "metadata": {},
     "outputs": [],
     "prompt_number": 1
    },
    {
     "cell_type": "markdown",
     "metadata": {},
     "source": [
      "Write a function that creates a harvester \n",
      "harvester_items : python dict with the following bits of information:\n",
      "* name\n",
      "* base oai url\n",
      "* days back\n",
      "* property_list"
     ]
    },
    {
     "cell_type": "code",
     "collapsed": false,
     "input": [
      "def last_harvest(name, oai_url, days_back, property_list):\n",
      "    ''' Creates a harvester, and then returns the first \n",
      "    item from that harvester'''\n",
      "    new_harvester = OAIHarvester(name, oai_url)\n",
      "    harvest = new_harvester.harvest(days_back)\n",
      "    normed = new_harvester.normalize(\n",
      "        raw_doc=harvest[-1],\n",
      "        property_list=property_list.split(' '))\n",
      "    print json.dumps(normed.attributes, indent=4)"
     ],
     "language": "python",
     "metadata": {},
     "outputs": [],
     "prompt_number": 4
    },
    {
     "cell_type": "code",
     "collapsed": false,
     "input": [
      "i = widgets.interact(last_harvest,\n",
      "                     name='mit',\n",
      "                     oai_url='http://dspace.mit.edu/oai/',\n",
      "                     days_back=(0,20),\n",
      "                     property_list= 'identifier type source language relation rights'\n",
      "    )"
     ],
     "language": "python",
     "metadata": {},
     "outputs": [
      {
       "output_type": "stream",
       "stream": "stdout",
       "text": [
        "{\n",
        "    \"source\": \"mit\", \n",
        "    \"description\": \"Several models of physics beyond the Standard Model predict neutral particles that decay into final states consisting of collimated jets of light leptons and hadrons (so-called \\u201clepton jets\\u201d). These particles can also be long-lived with decay length comparable to, or even larger than, the LHC detectors\\u2019 linear dimensions. This paper presents the results of a search for lepton jets in proton-proton collisions at the centre-of-mass energy of \\u221as = 8 TeV in a sample of 20.3 fb[superscript \\u22121] collected during 2012 with the ATLAS detector at the LHC. Limits on models predicting Higgs boson decays to neutral long-lived lepton jets are derived as a function of the particle\\u2019s proper decay length.\", \n",
        "    \"contributors\": [\n",
        "        {\n",
        "            \"given\": \"\", \n",
        "            \"suffix\": \"\", \n",
        "            \"family\": \"\", \n",
        "            \"middle\": \"\", \n",
        "            \"prefix\": \"\", \n",
        "            \"ORCID\": \"\", \n",
        "            \"email\": \"\"\n",
        "        }, \n",
        "        {\n",
        "            \"given\": \"Frank\", \n",
        "            \"suffix\": \"\", \n",
        "            \"family\": \"Taylor\", \n",
        "            \"middle\": \"E.\", \n",
        "            \"prefix\": \"\", \n",
        "            \"ORCID\": \"\", \n",
        "            \"email\": \"\"\n",
        "        }\n",
        "    ], \n",
        "    \"title\": \"Search for long-lived neutral particles decaying into lepton jets in proton-proton collisions at \\u221as = 8 TeV with the ATLAS detector\", \n",
        "    \"dateCreated\": \"2014-12-29T20:10:14Z\", \n",
        "    \"dateUpdated\": \"2014-12-29T20:10:14+00:00\", \n",
        "    \"tags\": [], \n",
        "    \"id\": {\n",
        "        \"url\": \"http://hdl.handle.net/1721.1/92535\", \n",
        "        \"serviceID\": \"oai:dspace.mit.edu:1721.1/92535\", \n",
        "        \"doi\": \"\"\n",
        "    }, \n",
        "    \"properties\": {\n",
        "        \"language\": \"en_US\", \n",
        "        \"rights\": [\n",
        "            \"Creative Commons Attribution\", \n",
        "            \"http://creativecommons.org/licenses/by/4.0/\"\n",
        "        ], \n",
        "        \"source\": \"Springer-Verlag\", \n",
        "        \"relation\": [\n",
        "            \"http://dx.doi.org/10.1007/JHEP11(2014)088\", \n",
        "            \"Journal of High Energy Physics\"\n",
        "        ], \n",
        "        \"identifier\": [\n",
        "            \"1029-8479\", \n",
        "            \"1126-6708\", \n",
        "            \"http://hdl.handle.net/1721.1/92535\", \n",
        "            \"Aad, G., B. Abbott, J. Abdallah, S. Abdel Khalek, O. Abdinov, R. Aben, B. Abi, et al. \\u201cSearch for Long-Lived Neutral Particles Decaying into Lepton Jets in Proton-Proton Collisions at \\u221as = 8 TeV with the ATLAS Detector.\\u201d J. High Energ. Phys. 2014, no. 11 (November 2014).\", \n",
        "            \"PUBLISHER_CC\"\n",
        "        ], \n",
        "        \"type\": [\n",
        "            \"Article\", \n",
        "            \"http://purl.org/eprint/type/JournalArticle\"\n",
        "        ]\n",
        "    }\n",
        "}\n"
       ]
      }
     ],
     "prompt_number": 5
    },
    {
     "cell_type": "code",
     "collapsed": false,
     "input": [],
     "language": "python",
     "metadata": {},
     "outputs": [],
     "prompt_number": 3
    }
   ],
   "metadata": {}
  }
 ]
}