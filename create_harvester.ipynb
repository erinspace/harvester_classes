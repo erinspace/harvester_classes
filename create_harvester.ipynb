{
 "metadata": {
  "name": "",
  "signature": "sha256:b9c5c6af3b8ac101deef3d80a51835849dd2b274083b0de852ac24d87d413265"
 },
 "nbformat": 3,
 "nbformat_minor": 0,
 "worksheets": [
  {
   "cells": [
    {
     "cell_type": "code",
     "collapsed": false,
     "input": [
      "from __future__ import unicode_literals\n",
      "\n",
      "import json\n",
      "\n",
      "from base import OAIHarvester\n",
      "from IPython.html import widgets\n",
      "from IPython.display import clear_output, display, HTML"
     ],
     "language": "python",
     "metadata": {},
     "outputs": [],
     "prompt_number": 4
    },
    {
     "cell_type": "markdown",
     "metadata": {},
     "source": [
      "Write a function that creates a harvester \n",
      "harvester_items : python dict with the following bits of information:\n",
      "* name\n",
      "* base oai url\n",
      "* days back\n",
      "* property_list"
     ]
    },
    {
     "cell_type": "code",
     "collapsed": false,
     "input": [
      "def last_harvest(name, oai_url, days_back, property_list):\n",
      "    ''' Creates a harvester, and then returns the first \n",
      "    item from that harvester'''\n",
      "    new_harvester = OAIHarvester(name, oai_url)\n",
      "    harvest = new_harvester.harvest(days_back)\n",
      "    normed = new_harvester.normalize(\n",
      "        raw_doc=harvest[-1],\n",
      "        property_list=property_list.split(' '))\n",
      "    print json.dumps(normed.attributes, indent=4)"
     ],
     "language": "python",
     "metadata": {},
     "outputs": [],
     "prompt_number": 5
    },
    {
     "cell_type": "code",
     "collapsed": false,
     "input": [
      "i = widgets.interact(last_harvest,\n",
      "                     name='mit',\n",
      "                     oai_url='http://dspace.mit.edu/oai/',\n",
      "                     days_back=(0,20),\n",
      "                     property_list= 'identifier type source language relation rights'\n",
      "    )"
     ],
     "language": "python",
     "metadata": {},
     "outputs": []
    },
    {
     "cell_type": "code",
     "collapsed": false,
     "input": [],
     "language": "python",
     "metadata": {},
     "outputs": []
    }
   ],
   "metadata": {}
  }
 ]
}