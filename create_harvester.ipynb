{
 "metadata": {
  "name": "",
  "signature": "sha256:230d8055863c9b2e67458d5f206014058378a91b430c01ef075691847b2eb8f8"
 },
 "nbformat": 3,
 "nbformat_minor": 0,
 "worksheets": [
  {
   "cells": [
    {
     "cell_type": "code",
     "collapsed": false,
     "input": [
      "from __future__ import unicode_literals\n",
      "\n",
      "import json\n",
      "\n",
      "from base import OAIHarvester\n",
      "from IPython.html import widgets\n",
      "from IPython.display import clear_output, display, HTML"
     ],
     "language": "python",
     "metadata": {},
     "outputs": [],
     "prompt_number": 1
    },
    {
     "cell_type": "markdown",
     "metadata": {},
     "source": [
      "Write a function that creates a harvester \n",
      "harvester_items : python dict with the following bits of information:\n",
      "* name\n",
      "* base oai url\n",
      "* days back\n",
      "* property_list"
     ]
    },
    {
     "cell_type": "code",
     "collapsed": false,
     "input": [
      "def last_harvest(name, oai_url, days_back, property_list):\n",
      "    ''' Creates a harvester, and then returns the first \n",
      "    item from that harvester'''\n",
      "    new_harvester = OAIHarvester(name, oai_url)\n",
      "    harvest = new_harvester.harvest(days_back)\n",
      "    normed = new_harvester.normalize(\n",
      "        raw_doc=harvest[-1],\n",
      "        property_list=property_list.split(' '))\n",
      "    print json.dumps(normed.attributes, indent=4)"
     ],
     "language": "python",
     "metadata": {},
     "outputs": [],
     "prompt_number": 2
    },
    {
     "cell_type": "code",
     "collapsed": false,
     "input": [
      "i = widgets.interact(last_harvest,\n",
      "                     name='mit',\n",
      "                     oai_url='http://dspace.mit.edu/oai/',\n",
      "                     days_back=(0,20),\n",
      "                     property_list= 'identifier type source language relation rights'\n",
      "    )"
     ],
     "language": "python",
     "metadata": {},
     "outputs": [
      {
       "output_type": "stream",
       "stream": "stdout",
       "text": [
        "{\n",
        "    \"source\": \"mit\", \n",
        "    \"description\": \"Understanding over-limiting current (faster than diffusion) is a long-standing challenge in electrochemistry with applications in desalination and energy storage. Known mechanisms involve either chemical or hydrodynamic instabilities in unconfined electrolytes. Here, it is shown that over-limiting current can be sustained by surface conduction in nanopores, without any such instabilities, and used to control dendritic growth during electrodeposition. Copper electrodeposits are grown in anodized aluminum oxide membranes with polyelectrolyte coatings to modify the surface charge. At low currents, uniform electroplating occurs, unaffected by surface modification due to thin electric double layers, but the morphology changes dramatically above the limiting current. With negative surface charge, growth is enhanced along the nanopore surfaces, forming surface dendrites and nanotubes behind a deionization shock. With positive surface charge, dendrites avoid the surfaces and are either guided along the nanopore centers or blocked from penetrating the membrane.\", \n",
        "    \"contributors\": [\n",
        "        {\n",
        "            \"given\": \"Ji-Hyung\", \n",
        "            \"suffix\": \"\", \n",
        "            \"family\": \"Han\", \n",
        "            \"middle\": \"\", \n",
        "            \"prefix\": \"\", \n",
        "            \"ORCID\": \"\", \n",
        "            \"email\": \"\"\n",
        "        }, \n",
        "        {\n",
        "            \"given\": \"Peng\", \n",
        "            \"suffix\": \"\", \n",
        "            \"family\": \"Bai\", \n",
        "            \"middle\": \"\", \n",
        "            \"prefix\": \"\", \n",
        "            \"ORCID\": \"\", \n",
        "            \"email\": \"\"\n",
        "        }, \n",
        "        {\n",
        "            \"given\": \"Martin\", \n",
        "            \"suffix\": \"\", \n",
        "            \"family\": \"Bazant\", \n",
        "            \"middle\": \"Z.\", \n",
        "            \"prefix\": \"\", \n",
        "            \"ORCID\": \"\", \n",
        "            \"email\": \"\"\n",
        "        }, \n",
        "        {\n",
        "            \"given\": \"Edwin\", \n",
        "            \"suffix\": \"\", \n",
        "            \"family\": \"Khoo\", \n",
        "            \"middle\": \"Sze Lun\", \n",
        "            \"prefix\": \"\", \n",
        "            \"ORCID\": \"\", \n",
        "            \"email\": \"\"\n",
        "        }\n",
        "    ], \n",
        "    \"title\": \"Over-limiting Current and Control of Dendritic Growth by Surface Conduction in Nanopores\", \n",
        "    \"dateCreated\": \"2014-12-30T17:52:05Z\", \n",
        "    \"dateUpdated\": \"2014-12-30T17:52:05+00:00\", \n",
        "    \"tags\": [], \n",
        "    \"id\": {\n",
        "        \"url\": \"http://hdl.handle.net/1721.1/92552\", \n",
        "        \"serviceID\": \"oai:dspace.mit.edu:1721.1/92552\", \n",
        "        \"doi\": \"\"\n",
        "    }, \n",
        "    \"properties\": {\n",
        "        \"language\": \"en_US\", \n",
        "        \"rights\": [\n",
        "            \"Creative Commons Attribution\", \n",
        "            \"http://creativecommons.org/licenses/by-nc-nd/4.0/\"\n",
        "        ], \n",
        "        \"source\": \"Nature Publishing Group\", \n",
        "        \"relation\": [\n",
        "            \"http://dx.doi.org/10.1038/srep07056\", \n",
        "            \"Scientific Reports\"\n",
        "        ], \n",
        "        \"identifier\": [\n",
        "            \"2045-2322\", \n",
        "            \"http://hdl.handle.net/1721.1/92552\", \n",
        "            \"Han, Ji-Hyung, Edwin Khoo, Peng Bai, and Martin Z. Bazant. \\u201cOver-Limiting Current and Control of Dendritic Growth by Surface Conduction in Nanopores.\\u201d Sci. Rep. 4 (November 14, 2014): 7056.\", \n",
        "            \"PUBLISHER_CC\"\n",
        "        ], \n",
        "        \"type\": [\n",
        "            \"Article\", \n",
        "            \"http://purl.org/eprint/type/JournalArticle\"\n",
        "        ]\n",
        "    }\n",
        "}\n"
       ]
      }
     ],
     "prompt_number": 3
    },
    {
     "cell_type": "code",
     "collapsed": false,
     "input": [],
     "language": "python",
     "metadata": {},
     "outputs": [],
     "prompt_number": 3
    }
   ],
   "metadata": {}
  }
 ]
}