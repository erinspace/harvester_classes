{
 "metadata": {
  "name": "",
  "signature": "sha256:28656fd157e185f7cda7d52822676d0ab82c74dcd4f4e6f9cdea8103f4344615"
 },
 "nbformat": 3,
 "nbformat_minor": 0,
 "worksheets": [
  {
   "cells": [
    {
     "cell_type": "code",
     "collapsed": false,
     "input": [
      "from __future__ import unicode_literals\n",
      "\n",
      "import json\n",
      "\n",
      "from base import OAIHarvester\n",
      "from IPython.html import widgets\n",
      "from IPython.display import clear_output, display, HTML"
     ],
     "language": "python",
     "metadata": {},
     "outputs": [],
     "prompt_number": 1
    },
    {
     "cell_type": "markdown",
     "metadata": {},
     "source": [
      "Write a function that creates a harvester \n",
      "harvester_items : python dict with the following bits of information:\n",
      "* name\n",
      "* base oai url\n",
      "* days back\n",
      "* property_list"
     ]
    },
    {
     "cell_type": "code",
     "collapsed": false,
     "input": [
      "def last_harvest(name, oai_url, days_back, property_list):\n",
      "    ''' Creates a harvester, and then returns the last \n",
      "    item from that harvester'''\n",
      "    new_harvester = OAIHarvester(name, oai_url)\n",
      "    harvest = new_harvester.harvest(days_back)\n",
      "    normed = new_harvester.normalize(\n",
      "        raw_doc=harvest[0],\n",
      "        property_list=property_list.split(' '))\n",
      "    print json.dumps(normed.attributes, indent=4)"
     ],
     "language": "python",
     "metadata": {},
     "outputs": []
    },
    {
     "cell_type": "code",
     "collapsed": false,
     "input": [
      "i = widgets.interact(last_harvest,\n",
      "                     name='enter name!',\n",
      "                     oai_url='http://dspace.mit.edu/oai/',\n",
      "                     days_back=(0,10),\n",
      "                     property_list= 'identifier type source language relation rights'\n",
      "    )"
     ],
     "language": "python",
     "metadata": {},
     "outputs": [
      {
       "output_type": "stream",
       "stream": "stdout",
       "text": [
        "> /Users/erin/code/SHAREconsumers/harvester_classes/base.py(161)get_properties()\n",
        "-> properties[item] = prop[0]\n"
       ]
      }
     ]
    },
    {
     "cell_type": "code",
     "collapsed": false,
     "input": [],
     "language": "python",
     "metadata": {},
     "outputs": []
    },
    {
     "cell_type": "code",
     "collapsed": false,
     "input": [],
     "language": "python",
     "metadata": {},
     "outputs": []
    }
   ],
   "metadata": {}
  }
 ]
}