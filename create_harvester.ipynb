{
 "metadata": {
  "name": "",
  "signature": "sha256:38690d6e9514415a6b73b09e943058b0dfc2b39fa915b09e7db233330809e2db"
 },
 "nbformat": 3,
 "nbformat_minor": 0,
 "worksheets": [
  {
   "cells": [
    {
     "cell_type": "code",
     "collapsed": false,
     "input": [
      "from __future__ import unicode_literals\n",
      "\n",
      "import json\n",
      "\n",
      "from base import OAIHarvester\n",
      "from IPython.html import widgets\n",
      "from IPython.display import clear_output, display, HTML"
     ],
     "language": "python",
     "metadata": {},
     "outputs": [],
     "prompt_number": 1
    },
    {
     "cell_type": "markdown",
     "metadata": {},
     "source": [
      "Write a function that creates a harvester \n",
      "harvester_items : python dict with the following bits of information:\n",
      "* name\n",
      "* base oai url\n",
      "* days back\n",
      "* property_list"
     ]
    },
    {
     "cell_type": "code",
     "collapsed": false,
     "input": [
      "def last_harvest(name, oai_url, days_back, property_list):\n",
      "    ''' Creates a harvester, and then returns the first \n",
      "    item from that harvester'''\n",
      "    new_harvester = OAIHarvester(name, oai_url)\n",
      "    harvest = new_harvester.harvest(days_back)\n",
      "    normed = new_harvester.normalize(\n",
      "        raw_doc=harvest[0],\n",
      "        property_list=property_list.split(' '))\n",
      "    print json.dumps(normed.attributes, indent=4)"
     ],
     "language": "python",
     "metadata": {},
     "outputs": [],
     "prompt_number": 2
    },
    {
     "cell_type": "code",
     "collapsed": false,
     "input": [
      "i = widgets.interact(last_harvest,\n",
      "                     name='mit',\n",
      "                     oai_url='http://dspace.mit.edu/oai/',\n",
      "                     days_back=(0,10),\n",
      "                     property_list= 'identifier type source language relation rights'\n",
      "    )"
     ],
     "language": "python",
     "metadata": {},
     "outputs": [
      {
       "output_type": "stream",
       "stream": "stdout",
       "text": [
        "{\n",
        "    \"source\": \"mit\", \n",
        "    \"description\": \"How will the tapestry of humanity and the ethos of civilization evolve when billions of devices and trillions of sensors with quadrillion end points can connect events in our daily lives to the world around us and monitor our every heart beat or predict the next tsunami?\", \n",
        "    \"contributors\": [\n",
        "        {\n",
        "            \"given\": \"\", \n",
        "            \"suffix\": \"\", \n",
        "            \"family\": \"\", \n",
        "            \"middle\": \"\", \n",
        "            \"prefix\": \"\", \n",
        "            \"ORCID\": \"\", \n",
        "            \"email\": \"\"\n",
        "        }, \n",
        "        {\n",
        "            \"given\": \"Shoumen\", \n",
        "            \"suffix\": \"\", \n",
        "            \"family\": \"Datta\", \n",
        "            \"middle\": \"\", \n",
        "            \"prefix\": \"\", \n",
        "            \"ORCID\": \"\", \n",
        "            \"email\": \"\"\n",
        "        }\n",
        "    ], \n",
        "    \"title\": \"Socio-Economic Disequilibrium Catalyzed by Internet of Things (IoT)\", \n",
        "    \"dateCreated\": \"2014-05-12T13:08:18Z\", \n",
        "    \"dateUpdated\": \"2014-12-27T21:54:14+00:00\", \n",
        "    \"tags\": [\n",
        "        \"iot\", \n",
        "        \"cps\", \n",
        "        \"m2m\", \n",
        "        \"industrial internet\", \n",
        "        \"internet of things\", \n",
        "        \"cyberphysical systems\", \n",
        "        \"education\"\n",
        "    ], \n",
        "    \"id\": {\n",
        "        \"url\": \"http://hdl.handle.net/1721.1/86935\", \n",
        "        \"serviceID\": \"oai:dspace.mit.edu:1721.1/86935\", \n",
        "        \"doi\": \"\"\n",
        "    }, \n",
        "    \"properties\": {\n",
        "        \"language\": \"en_US\", \n",
        "        \"rights\": [\n",
        "            \"Attribution-NoDerivs 3.0 United States\", \n",
        "            \"http://creativecommons.org/licenses/by-nd/3.0/us/\"\n",
        "        ], \n",
        "        \"source\": \"\", \n",
        "        \"relation\": \"\", \n",
        "        \"identifier\": \"http://hdl.handle.net/1721.1/86935\", \n",
        "        \"type\": \"Article\"\n",
        "    }\n",
        "}\n"
       ]
      }
     ],
     "prompt_number": 3
    },
    {
     "cell_type": "code",
     "collapsed": false,
     "input": [],
     "language": "python",
     "metadata": {},
     "outputs": [],
     "prompt_number": 3
    }
   ],
   "metadata": {}
  }
 ]
}